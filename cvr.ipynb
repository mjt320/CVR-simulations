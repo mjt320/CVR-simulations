{
 "cells": [
  {
   "cell_type": "markdown",
   "id": "interstate-fitting",
   "metadata": {},
   "source": [
    "## Theory\n",
    "Define a simple linear model for the MRI signal $s$:\n",
    "* define a signal $s_0$ at $t=0$; assume that $\\newcommand\\etco{\\mathit{ETCO2}} \\newcommand\\cvr{\\mathit{CVR}}\\etco=\\etco_0$ for long enough that a steady-state signal has been reached.\n",
    "* $\\cvr$ is the change in $s$ (as a fraction of $s_0$) per unit change in $ETCO2$\n",
    "* there is a drift $d$ that causes a change in $s$ (as a fraction of $s_0$) per unit time\n",
    "* there is a delay $\\delta$ such that the signal depends on $\\etco(t-\\delta)$\n",
    "\n",
    "Therefore, $ s = s_0 + \\cvr\\cdot\\left(\\etco(t-\\delta)-\\etco_0\\right)\\cdot s_0 + d\\cdot t\\cdot s_0$.  \n",
    "Rearranging, $$ s = s_0\\cdot(1-\\cvr\\cdot\\etco_0) + \\cvr\\cdot s_0\\cdot\\etco(t-\\delta) + d\\cdot s_0\\cdot t$$\n",
    "Using multiple linear regression we obtain an intercept and a coefficient for each regressor:\n",
    "* $\\beta_0 = s_0 (1-\\cvr\\,\\etco_0)$\n",
    "* $\\beta_\\etco = \\cvr\\,s_0$\n",
    "* $\\beta_t = d\\,s_0$\n",
    "\n",
    "So, $\\cvr=\\frac{\\beta_\\etco}{s_0}$. We've defined $s_0$ as the signal at $t=0$, however for noisy data it may be more reliable to take the average signal over multiple early time points."
   ]
  },
  {
   "cell_type": "markdown",
   "id": "liquid-valentine",
   "metadata": {},
   "source": [
    "## Define Python functions"
   ]
  },
  {
   "cell_type": "code",
   "execution_count": 2,
   "id": "lightweight-mouse",
   "metadata": {},
   "outputs": [],
   "source": [
    "import ipywidgets as widgets\n",
    "import matplotlib\n",
    "import matplotlib.pyplot as plt\n",
    "import numpy as np\n",
    "import statsmodels.api as sm\n",
    "\n",
    "%matplotlib inline\n",
    "\n",
    "def delay_etco2(etco2, delay):\n",
    "    # apply a delay to etco2 time course\n",
    "    # etco2 = ETCO2 array, delay = delay (points)\n",
    "    # returns: shifted ETCO2 array\n",
    "\n",
    "    # shift etco2\n",
    "    etco2_shifted = np.roll(etco2, delay)\n",
    "    \n",
    "    # above step is circular shift - correct start/end values (simplistic)\n",
    "    if delay > 0:\n",
    "        etco2_shifted[:delay] = etco2[0]\n",
    "    elif delay < 0:\n",
    "        etco2_shifted[delay::] = etco2[-1]\n",
    "    \n",
    "    return etco2_shifted\n",
    "\n",
    "\n",
    "def gen_cvr_signal(etco2, s0, cvr, delay = 0, sigma = 0, drift = 0, n = 1):\n",
    "    # simulate multiple CVR signals\n",
    "    # etco2 = ETCO2 array, s0 = signal at time zero, cvr = CVR (%/mmHg), delay (points), sigma = std of Gaussian noise, drift = signal drift / s0 per unit time, n = number of signals to generate\n",
    "    # returns a 2D array; one signal per column\n",
    "\n",
    "    # shift etco2\n",
    "    etco2_shifted = delay_etco2(etco2, delay)\n",
    "    \n",
    "    # generate the pure signals\n",
    "    s = np.tile( s0 * (1 + (cvr/100)*(etco2_shifted - etco2[0])), [n, 1] )\n",
    "    \n",
    "    # add drift\n",
    "    t = np.arange(etco2.size)\n",
    "    \n",
    "    s += (drift/100.) * t * s0\n",
    "    \n",
    "    # add noise\n",
    "    s += np.random.normal(loc = 0., scale = sigma, size = s.shape)\n",
    "    \n",
    "    s = s.transpose()\n",
    "    \n",
    "    return s # each signal is a column\n",
    "\n",
    "\n",
    "def fit_cvr(etco2, s, delay = 0, baseline = [0]):\n",
    "    # fit CVR signal(s) with a specified delay\n",
    "    # etco2 = ETCO2 array, s = array of signals (one column per signal), delay = delay (points), baseline = list of indices to use to estimate s0\n",
    "    # returns dict of results {cvr, drift, residuals}; each entry is an array contain 1 value per signal analysed\n",
    "   \n",
    "    # shift etco2\n",
    "    etco2_shifted = delay_etco2(etco2, delay)\n",
    "    \n",
    "    # organise regressors into matrix\n",
    "    a1 = np.ones(etco2_shifted.shape).reshape(-1,1)\n",
    "    a2 = etco2_shifted.reshape(-1,1)\n",
    "    a3 = np.arange(etco2.size).reshape(-1,1)\n",
    "    regs = np.concatenate((a1,a2,a3),1) # matrix with n rows and 2 columns (ones and shifted etco2)\n",
    "    \n",
    "    # do multiple linear regression\n",
    "    x, residuals, rank, svs = np.linalg.lstsq(regs, s, rcond=None)\n",
    "    s0 = np.mean(s[baseline], axis=0)\n",
    "    cvr = (100. * x[1]) / s0\n",
    "    drift = (100. * x[2]) / s0\n",
    "    \n",
    "    results = {'cvr': cvr, 'drift': drift, 'res': residuals}\n",
    "    \n",
    "    return results\n",
    "\n",
    "\n",
    "def fit_cvr_delay(etco2, s, min_delay=0, max_delay=0, baseline = [0]):\n",
    "    # fit CVR signal(s) with optimised delay\n",
    "    # etco2 = ETCO2 array, s = array of signals (one column per signal), min/max_delay = min/max allowed delay (points), baseline = list of indices to use to estimate s0\n",
    "    # returns dict of results {cvr, delay, drift, residuals}; each entry is an array contain 1 value per signal analysed\n",
    "    \n",
    "    cvr, delay, drift, res = [], [], [], []\n",
    "    for signal in s.transpose():\n",
    "        delay_range = range(min_delay, max_delay + 1)\n",
    "        \n",
    "        results_all_shifts = [ fit_cvr(etco2, signal, this_delay, baseline = baseline) for this_delay in delay_range ]\n",
    "\n",
    "        residuals = [ result['res'][0] for result in results_all_shifts ]\n",
    "        res_best = min(residuals)\n",
    "        idx_best = residuals.index(res_best)\n",
    "        \n",
    "        cvr.append(results_all_shifts[idx_best]['cvr'])        \n",
    "        delay.append(delay_range[idx_best])\n",
    "        drift.append(results_all_shifts[idx_best]['drift'])\n",
    "        res.append(res_best)\n",
    "        \n",
    "    results = { 'cvr': cvr, 'delay': delay, 'drift': drift, 'res': res }\n",
    "    \n",
    "    return results"
   ]
  },
  {
   "cell_type": "markdown",
   "id": "digital-strip",
   "metadata": {},
   "source": [
    "## Do some simulations\n",
    "### Set up a paradigm"
   ]
  },
  {
   "cell_type": "code",
   "execution_count": 3,
   "id": "brief-guatemala",
   "metadata": {},
   "outputs": [
    {
     "data": {
      "image/png": "[encoded data removed]",
      "text/plain": [
       "<Figure size 432x288 with 1 Axes>"
      ]
     },
     "metadata": {
      "needs_background": "light"
     },
     "output_type": "display_data"
    }
   ],
   "source": [
    "etco2_mss3 = np.concatenate((30.*np.ones(120), 40.*np.ones(180), 30.*np.ones(120), 40.*np.ones(180), 30.*np.ones(120)))\n",
    "p = plt.plot(etco2_mss3)"
   ]
  },
  {
   "cell_type": "markdown",
   "id": "sharing-probability",
   "metadata": {},
   "source": [
    "### Generate and fit MRI signals"
   ]
  },
  {
   "cell_type": "code",
   "execution_count": 4,
   "id": "boring-switch",
   "metadata": {},
   "outputs": [
    {
     "name": "stdout",
     "output_type": "stream",
     "text": [
      "mean CVR: 0.04001365530413544, std CVR: 0.001675312412216947\n",
      "mean delay: 19.95, std delay: 0.2958039891549808\n"
     ]
    },
    {
     "data": {
      "image/png": "[encoded data removed]",
      "text/plain": [
       "<Figure size 432x288 with 1 Axes>"
      ]
     },
     "metadata": {
      "needs_background": "light"
     },
     "output_type": "display_data"
    },
    {
     "data": {
      "image/png": "[encoded data removed]",
      "text/plain": [
       "<Figure size 432x288 with 1 Axes>"
      ]
     },
     "metadata": {
      "needs_background": "light"
     },
     "output_type": "display_data"
    }
   ],
   "source": [
    "s0, cvr, delay = 50, 0.04, 20\n",
    "n, sigma, drift = 100, 0.1, 0.0005\n",
    "\n",
    "# generate signals\n",
    "s = gen_cvr_signal(etco2_mss3, s0, cvr, delay = delay, sigma = sigma, drift = drift, n = n)\n",
    "\n",
    "# plot signals\n",
    "fig, ax = plt.subplots()\n",
    "ax.plot(s[:,0]);\n",
    "ax.plot(np.mean(s, axis=1));\n",
    "ax.set_title('First and mean signal');\n",
    "\n",
    "# fit sigals\n",
    "results = fit_cvr_delay(etco2_mss3, s, min_delay=-100, max_delay=100, baseline=list(range(10)))\n",
    "\n",
    "# plot results\n",
    "fig, ax = plt.subplots()\n",
    "bp = ax.boxplot(results['cvr']);\n",
    "ax.set_title('CVR estimates');\n",
    "print(\"mean CVR: {mean}, std CVR: {std}\".format(mean=np.mean(results['cvr']), std=np.std(results['cvr'])))\n",
    "print(\"mean delay: {mean}, std delay: {std}\".format(mean=np.mean(results['delay']), std=np.std(results['delay'])))"
   ]
  },
  {
   "cell_type": "markdown",
   "id": "interim-charge",
   "metadata": {},
   "source": [
    "### Interactive simulation"
   ]
  },
  {
   "cell_type": "code",
   "execution_count": 5,
   "id": "noted-creature",
   "metadata": {},
   "outputs": [
    {
     "data": {
      "application/vnd.jupyter.widget-view+json": {
       "model_id": "881d5a1eb90c43959fad116b95b3e9ec",
       "version_major": 2,
       "version_minor": 0
      },
      "text/plain": [
       "interactive(children=(IntSlider(value=50, description='s0'), FloatSlider(value=0.04, description='cvr', max=0.…"
      ]
     },
     "metadata": {},
     "output_type": "display_data"
    }
   ],
   "source": [
    "# interactive plot for fitting results\n",
    "%matplotlib widget\n",
    "\n",
    "etco2, n = etco2_mss3, 100\n",
    "\n",
    "@widgets.interact(s0 = (0, 100, 1), cvr = (0, 0.1, 0.005), delay = (-30, 30, 1), sigma = (0, 0.5, 0.025), drift = (0, 0.001, 0.0001))\n",
    "def fit_signals(s0 = 50, cvr = 0.04 , delay = 20, sigma = 0.1, drift = 0.0005):\n",
    "    # generate signals\n",
    "    s = gen_cvr_signal(etco2, s0, cvr, delay = delay, sigma = sigma, drift = drift, n = n)\n",
    "    \n",
    "    # plot signals\n",
    "    if plt.fignum_exists(10):\n",
    "        plt.close(10)    \n",
    "    fig, ax = plt.subplots(1,2)\n",
    "    ax[0].plot(s[:,0]);\n",
    "    ax[0].plot(np.mean(s, axis=1));\n",
    "    ax[0].set_title('First and mean signal');\n",
    "    \n",
    "    # fit signals\n",
    "    results = fit_cvr_delay(etco2_mss3, s, min_delay=-40, max_delay=40, baseline=list(range(10)))\n",
    "    #print(\"mean CVR: {mean}, std CVR: {std}\".format(mean=np.mean(results['cvr']), std=np.std(results['cvr'])))\n",
    "    #print(\"mean delay: {mean}, std delay: {std}\".format(mean=np.mean(results['delay']), std=np.std(results['delay'])))\n",
    "    ax[1].set_title('CVR estimates');\n",
    "    ax[1].set_ylim([0,0.1])\n",
    "    ax[1].boxplot(results['cvr']);"
   ]
  },
  {
   "cell_type": "code",
   "execution_count": 97,
   "id": "average-sphere",
   "metadata": {},
   "outputs": [],
   "source": [
    "plt.close('all')"
   ]
  }
 ],
 "metadata": {
  "kernelspec": {
   "display_name": "Python 3",
   "language": "python",
   "name": "python3"
  },
  "language_info": {
   "codemirror_mode": {
    "name": "ipython",
    "version": 3
   },
   "file_extension": ".py",
   "mimetype": "text/x-python",
   "name": "python",
   "nbconvert_exporter": "python",
   "pygments_lexer": "ipython3",
   "version": "3.7.6"
  }
 },
 "nbformat": 4,
 "nbformat_minor": 5
}
